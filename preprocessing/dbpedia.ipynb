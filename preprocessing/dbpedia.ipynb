{
  "cells": [
    {
      "cell_type": "code",
      "metadata": {
        "id": "QQsQvO9FLFsP",
        "colab_type": "code",
        "colab": {}
      },
      "source": [
        "import pandas as pd\n",
        "from SPARQLWrapper import SPARQLWrapper, JSON"
      ],
      "execution_count": 28,
      "outputs": []
    },
    {
      "cell_type": "code",
      "metadata": {
        "id": "ZZ_ugUn3LTiE",
        "colab_type": "code",
        "colab": {}
      },
      "source": [
        "path='data/dbpedia/'"
      ],
      "execution_count": 29,
      "outputs": []
    },
    {
      "cell_type": "code",
      "metadata": {
        "id": "OiLWRsJXLX1c",
        "colab_type": "code",
        "colab": {}
      },
      "source": [
        "movies_df=pd.read_csv(path+'MappingMovielens2DBpedia-1.2.tsv', sep='\\t', header=None, names=['movie_id','movie_title','dbpedia_link'])"
      ],
      "execution_count": 30,
      "outputs": []
    },
    {
      "cell_type": "code",
      "metadata": {
        "id": "u5jvG7GsQj-k",
        "colab_type": "code",
        "colab": {
          "base_uri": "https://localhost:8080/",
          "height": 204
        },
        "outputId": "d880495c-1503-475f-9cbd-99f17d9dad83"
      },
      "source": [
        "movies_df.head()"
      ],
      "execution_count": 31,
      "outputs": [
        {
          "output_type": "execute_result",
          "data": {
            "text/plain": "   movie_id               movie_title  \\\n0       781    Stealing Beauty (1996)   \n1      1799      Suicide Kings (1997)   \n2       521  Romeo Is Bleeding (1993)   \n3      3596            Screwed (2000)   \n4      3682       Magnum Force (1973)   \n\n                                      dbpedia_link  \n0      http://dbpedia.org/resource/Stealing_Beauty  \n1        http://dbpedia.org/resource/Suicide_Kings  \n2    http://dbpedia.org/resource/Romeo_Is_Bleeding  \n3  http://dbpedia.org/resource/Screwed_(2000_film)  \n4         http://dbpedia.org/resource/Magnum_Force  ",
            "text/html": "<div>\n<style scoped>\n    .dataframe tbody tr th:only-of-type {\n        vertical-align: middle;\n    }\n\n    .dataframe tbody tr th {\n        vertical-align: top;\n    }\n\n    .dataframe thead th {\n        text-align: right;\n    }\n</style>\n<table border=\"1\" class=\"dataframe\">\n  <thead>\n    <tr style=\"text-align: right;\">\n      <th></th>\n      <th>movie_id</th>\n      <th>movie_title</th>\n      <th>dbpedia_link</th>\n    </tr>\n  </thead>\n  <tbody>\n    <tr>\n      <th>0</th>\n      <td>781</td>\n      <td>Stealing Beauty (1996)</td>\n      <td>http://dbpedia.org/resource/Stealing_Beauty</td>\n    </tr>\n    <tr>\n      <th>1</th>\n      <td>1799</td>\n      <td>Suicide Kings (1997)</td>\n      <td>http://dbpedia.org/resource/Suicide_Kings</td>\n    </tr>\n    <tr>\n      <th>2</th>\n      <td>521</td>\n      <td>Romeo Is Bleeding (1993)</td>\n      <td>http://dbpedia.org/resource/Romeo_Is_Bleeding</td>\n    </tr>\n    <tr>\n      <th>3</th>\n      <td>3596</td>\n      <td>Screwed (2000)</td>\n      <td>http://dbpedia.org/resource/Screwed_(2000_film)</td>\n    </tr>\n    <tr>\n      <th>4</th>\n      <td>3682</td>\n      <td>Magnum Force (1973)</td>\n      <td>http://dbpedia.org/resource/Magnum_Force</td>\n    </tr>\n  </tbody>\n</table>\n</div>"
          },
          "metadata": {},
          "execution_count": 31
        }
      ]
    },
    {
      "cell_type": "code",
      "metadata": {
        "id": "o5BWmINZTUlV",
        "colab_type": "code",
        "colab": {}
      },
      "source": [
        "sparql = SPARQLWrapper(\"http://dbpedia.org/sparql\")"
      ],
      "execution_count": 32,
      "outputs": []
    },
    {
      "cell_type": "code",
      "metadata": {
        "id": "qFXOhu3mRj9I",
        "colab_type": "code",
        "colab": {}
      },
      "source": [
        "movie = movies_df.iloc[0, :]\n",
        "movie_id = movie.get('movie_id')\n",
        "movie_title = movie.get('movie_title')\n",
        "movie_dbpedia = movie.get('dbpedia_link')"
      ],
      "execution_count": 33,
      "outputs": []
    },
    {
      "cell_type": "code",
      "metadata": {
        "id": "PzQKoqH9Tg7O",
        "colab_type": "code",
        "colab": {}
      },
      "source": [
        "sparql_query_director_country = \"SELECT ?director ?country WHERE { ?dir rdfs:label ?director . ?coun rdfs:label ?country . <%s> dbo:country ?coun .<http://dbpedia.org/resource/Stealing_Beauty> dbo:director ?dir .FILTER (lang(?director) = 'en' AND lang(?country) = 'en')}\" % movie_dbpedia\n",
        "sparql_query_starring = \"SELECT ?starring ?label WHERE { ?starring rdfs:label ?label . <%s> dbo:starring ?starring FILTER (lang(?label) = 'en')}\" % movie_dbpedia"
      ],
      "execution_count": 34,
      "outputs": []
    },
    {
      "cell_type": "code",
      "metadata": {
        "id": "xKmJQWPmTJPJ",
        "colab_type": "code",
        "colab": {
          "base_uri": "https://localhost:8080/",
          "height": 34
        },
        "outputId": "4405b9f6-2f71-4de8-d115-7bfe29cbd9dc"
      },
      "source": [
        "sparql.setQuery(sparql_query_director_country)\n",
        "sparql.setReturnFormat(JSON)\n",
        "director_country_result = sparql.query().convert()\n",
        "director_country = director_country_result[\"results\"][\"bindings\"][0]\n",
        "\n",
        "director = director_country[\"director\"][\"value\"]\n",
        "country = director_country[\"country\"][\"value\"]\n",
        "\n",
        "print(director, country)"
      ],
      "execution_count": 35,
      "outputs": [
        {
          "output_type": "stream",
          "name": "stdout",
          "text": "Bernardo Bertolucci France\n"
        }
      ]
    },
    {
      "cell_type": "code",
      "metadata": {
        "id": "4lR4NoBiU0h_",
        "colab_type": "code",
        "colab": {
          "base_uri": "https://localhost:8080/",
          "height": 102
        },
        "outputId": "d3d798bb-c0d9-40af-a53f-e5f75539886c"
      },
      "source": [
        "sparql.setQuery(sparql_query_starring)\n",
        "sparql.setReturnFormat(JSON)\n",
        "starring = sparql.query().convert()\n",
        "\n",
        "for result in starring[\"results\"][\"bindings\"]:\n",
        "    print(result[\"label\"][\"value\"])"
      ],
      "execution_count": 36,
      "outputs": [
        {
          "output_type": "stream",
          "name": "stdout",
          "text": "Sinéad Cusack\nJoseph Fiennes\nRachel Weisz\nJeremy Irons\nLiv Tyler\n"
        }
      ]
    }
  ],
  "metadata": {
    "colab": {
      "name": "Taller3_dbpedia.ipynb",
      "provenance": [],
      "collapsed_sections": []
    },
    "kernelspec": {
      "name": "python38164bittaller3pipenv9064651970794fd7ae733e19b484784b",
      "display_name": "Python 3.8.1 64-bit ('taller3': pipenv)"
    }
  },
  "nbformat": 4,
  "nbformat_minor": 0
}