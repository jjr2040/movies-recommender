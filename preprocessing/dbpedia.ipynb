{
  "cells": [
    {
      "cell_type": "code",
      "metadata": {
        "id": "QQsQvO9FLFsP",
        "colab_type": "code",
        "colab": {}
      },
      "source": [
        "import pandas as pd\n",
        "from SPARQLWrapper import SPARQLWrapper, JSON"
      ],
      "execution_count": 2,
      "outputs": []
    },
    {
      "cell_type": "code",
      "execution_count": 3,
      "metadata": {},
      "outputs": [],
      "source": [
        "# Initialize sparqlWrapper\n",
        "sparql = SPARQLWrapper(\"http://dbpedia.org/sparql\")"
      ]
    },
    {
      "cell_type": "code",
      "metadata": {
        "id": "ZZ_ugUn3LTiE",
        "colab_type": "code",
        "colab": {}
      },
      "source": [
        "# Set paths\n",
        "path_dbpedia='data/dbpedia/'\n",
        "path_movielens='data/movielens/'"
      ],
      "execution_count": 4,
      "outputs": []
    },
    {
      "cell_type": "code",
      "metadata": {
        "id": "OiLWRsJXLX1c",
        "colab_type": "code",
        "colab": {}
      },
      "source": [
        "# Load files\n",
        "movies_dbpedia_df=pd.read_csv(path_dbpedia+'MappingMovielens2DBpedia-1.2.tsv', sep='\\t', header=None, names=['movieId','title','dbpedia_link'])\n",
        "movies_movielens_df=pd.read_csv(path_movielens+'movies.csv')\n",
        "# Merge dbpedia file with the one from movielens\n",
        "movies_df = pd.merge(movies_dbpedia_df, movies_movielens_df[['movieId','genres']], how='inner', on='movieId')"
      ],
      "execution_count": 5,
      "outputs": []
    },
    {
      "cell_type": "code",
      "execution_count": 30,
      "metadata": {},
      "outputs": [],
      "source": [
        "# Define query functions\n",
        "def query_dbpedia_single(query):\n",
        "    sparql.setQuery(query)\n",
        "    sparql.setReturnFormat(JSON)\n",
        "    sparql_results = sparql.query().convert()\n",
        "    results = sparql_results[\"results\"][\"bindings\"]\n",
        "    if results != []:\n",
        "        uri = ''\n",
        "        label = ''\n",
        "        if \"uri\" in results[0]:\n",
        "            uri = results[0][\"uri\"][\"value\"]\n",
        "        if \"label\" in results[0]:\n",
        "            label = results[0][\"label\"][\"value\"]\n",
        "        return uri, label\n",
        "    else:\n",
        "        return '', ''\n",
        "\n",
        "def query_dbpedia_multiple(query):\n",
        "    sparql.setQuery(query)\n",
        "    sparql.setReturnFormat(JSON)\n",
        "    results = sparql.query().convert()\n",
        "    array = []\n",
        "    for result in results[\"results\"][\"bindings\"]:\n",
        "        array.append(result[\"label\"][\"value\"])\n",
        "\n",
        "    values = '|'.join(array)\n",
        "    return values"
      ]
    },
    {
      "cell_type": "code",
      "execution_count": 9,
      "metadata": {},
      "outputs": [
        {
          "output_type": "execute_result",
          "data": {
            "text/plain": "movieId                                                      3719\ntitle                                 Love's Labour's Lost (2000)\ndbpedia_link    http://dbpedia.org/resource/Love's_Labour's_Lo...\ngenres                                             Comedy|Romance\nName: 8, dtype: object"
          },
          "metadata": {},
          "execution_count": 9
        }
      ],
      "source": [
        "movie = movies_df.iloc[8, :]\n",
        "movie_id = movie.get('movie_id')\n",
        "movie_title = movie.get('movie_title')\n",
        "movie_dbpedia = movie.get('dbpedia_link')\n",
        "movie"
      ]
    },
    {
      "cell_type": "code",
      "execution_count": 12,
      "metadata": {},
      "outputs": [
        {
          "output_type": "execute_result",
          "data": {
            "text/plain": "\"http://dbpedia.org/resource/Love's_Labour's_Lost_(2000_film)\""
          },
          "metadata": {},
          "execution_count": 12
        }
      ],
      "source": [
        "movie_dbpedia"
      ]
    },
    {
      "cell_type": "code",
      "execution_count": 10,
      "metadata": {},
      "outputs": [],
      "source": [
        "# Set SPARQL queries\n",
        "#sparql_query_single_value = \"SELECT ?director ?country (MAX(?runtime) AS ?runtime) ?writer WHERE {{ ?dir rdfs:label ?director .?coun rdfs:label ?country .?wr rdfs:label ?writer . <{0}> dbo:writer ?wr . <{0}> dbo:runtime ?runtime . <{0}> dbo:country ?coun . <{0}> dbo:director ?dir . FILTER (lang(?director) = 'en' AND lang(?country) = 'en' AND lang(?writer) = 'en')}}\".format(movie_dbpedia)\n",
        "#sparql_query_country_failover = \"SELECT ?label WHERE { <%s> dbp:country ?label}\" % movie_dbpedia\n",
        "sparql_query_director = \"SELECT ?uri ?label WHERE { ?uri rdfs:label ?label . <%s> dbo:director ?uri FILTER (lang(?label) = 'en')}\" % movie_dbpedia\n",
        "sparql_query_country = \"SELECT ?uri ?label WHERE { ?uri rdfs:label ?label . <%s> dbo:country ?uri FILTER (lang(?label) = 'en')}\" % movie_dbpedia\n",
        "sparql_query_runtime = \"SELECT ('' AS ?uri), (MAX(?runtime) AS ?label) WHERE { <%s> dbo:runtime ?runtime }\" % movie_dbpedia\n",
        "sparql_query_writer = \"SELECT ?uri ?label WHERE { ?uri rdfs:label ?label . <%s> dbo:writer ?uri FILTER (lang(?label) = 'en')}\" % movie_dbpedia\n",
        "sparql_query_starring = \"SELECT ?starring ?label WHERE { ?starring rdfs:label ?label . <%s> dbo:starring ?starring FILTER (lang(?label) = 'en')}\" % movie_dbpedia\n",
        "sparql_query_languages = \"SELECT ?language ?label WHERE { ?language rdfs:label ?label . <%s> dbo:language ?language FILTER (lang(?label) = 'en')}\" % movie_dbpedia\n",
        "sparql_query_studios = \"SELECT ?studios ?label WHERE { ?studios rdfs:label ?label . <%s> dbp:studio ?studios FILTER (lang(?label) = 'en')}\" % movie_dbpedia"
      ]
    },
    {
      "cell_type": "code",
      "execution_count": 31,
      "metadata": {},
      "outputs": [],
      "source": [
        "director_uri, director_name = query_dbpedia_single(sparql_query_director)\n",
        "country_uri, country_name = query_dbpedia_single(sparql_query_country)\n",
        "runtime_uri, runtime = query_dbpedia_single(sparql_query_runtime)\n",
        "writer_uri, writer_name = query_dbpedia_single(sparql_query_writer)\n",
        "starring = query_dbpedia_multiple(sparql_query_starring)\n",
        "languages = query_dbpedia_multiple(sparql_query_languages)\n",
        "studios = query_dbpedia_multiple(sparql_query_studios)"
      ]
    },
    {
      "cell_type": "code",
      "execution_count": 32,
      "metadata": {},
      "outputs": [
        {
          "output_type": "stream",
          "name": "stdout",
          "text": "movieId                                                      3719\ntitle                                 Love's Labour's Lost (2000)\ndbpedia_link    http://dbpedia.org/resource/Love's_Labour's_Lo...\ngenres                                             Comedy|Romance\ndirector_uri                                                     \ndirector                                                         \ncountry_uri                                                      \ncountry                                                          \nruntime                                                          \nwriter_uri                                                       \nwriter                                                           \nstarring                                                         \nlanguagues                                                       \nstudios                                                          \nName: 8, dtype: object\n"
        }
      ],
      "source": [
        "movie['director_uri'] = director_uri\n",
        "movie['director'] = director_name\n",
        "movie['country_uri'] = country_uri\n",
        "movie['country'] = country_name\n",
        "movie['runtime'] = runtime\n",
        "movie['writer_uri'] = writer_uri\n",
        "movie['writer'] = writer_name\n",
        "movie['starring'] = starring\n",
        "movie['languagues'] = languages\n",
        "movie['studios'] = studios\n",
        "\n",
        "print(movie)"
      ]
    },
    {
      "cell_type": "markdown",
      "metadata": {},
      "source": [
        "# Now everything together"
      ]
    },
    {
      "cell_type": "code",
      "execution_count": 8,
      "metadata": {
        "tags": [
          "outputPrepend",
          "outputPrepend",
          "outputPrepend",
          "outputPrepend",
          "outputPrepend",
          "outputPrepend",
          "outputPrepend",
          "outputPrepend",
          "outputPrepend",
          "outputPrepend",
          "outputPrepend",
          "outputPrepend"
        ]
      },
      "outputs": [
        {
          "output_type": "stream",
          "name": "stdout",
          "text": "0\n5\nAn exception occurred at index: 8\n"
        }
      ],
      "source": [
        "movies_enriched_df = pd.DataFrame(columns=['movieId', 'title', 'dbpedia_link','genres','director_uri','director','country_uri','country','runtime','writer_uri','writer','starring', 'languagues', 'studios'])\n",
        "\n",
        "for i in range(len(movies_df)) : \n",
        "    try:\n",
        "        if i % 5 == 0:\n",
        "            print(i)\n",
        "        movie = movies_df.iloc[i, :]\n",
        "        movie_id = movie.get('movie_id')\n",
        "        movie_title = movie.get('movie_title')\n",
        "        movie_dbpedia = movie.get('dbpedia_link')\n",
        "\n",
        "        # Set SPARQL queries\n",
        "        sparql_query_director = \"SELECT ?uri ?label WHERE { ?uri rdfs:label ?label . <%s> dbo:director ?uri FILTER (lang(?label) = 'en')}\" % movie_dbpedia\n",
        "        sparql_query_country = \"SELECT ?uri ?label WHERE { ?uri rdfs:label ?label . <%s> dbo:country ?uri FILTER (lang(?label) = 'en')}\" % movie_dbpedia\n",
        "        sparql_query_runtime = \"SELECT ('' AS ?uri), (MAX(?runtime) AS ?label) WHERE { <%s> dbo:runtime ?runtime }\" % movie_dbpedia\n",
        "        sparql_query_writer = \"SELECT ?uri ?label WHERE { ?uri rdfs:label ?label . <%s> dbo:writer ?uri FILTER (lang(?label) = 'en')}\" % movie_dbpedia\n",
        "        sparql_query_starring = \"SELECT ?starring ?label WHERE { ?starring rdfs:label ?label . <%s> dbo:starring ?starring FILTER (lang(?label) = 'en')}\" % movie_dbpedia\n",
        "        sparql_query_languages = \"SELECT ?language ?label WHERE { ?language rdfs:label ?label . <%s> dbo:language ?language FILTER (lang(?label) = 'en')}\" % movie_dbpedia\n",
        "        sparql_query_studios = \"SELECT ?studios ?label WHERE { ?studios rdfs:label ?label . <%s> dbp:studio ?studios FILTER (lang(?label) = 'en')}\" % movie_dbpedia\n",
        "\n",
        "        # Query DBPedia\n",
        "        director_uri, director_name = query_dbpedia_single(sparql_query_director)\n",
        "        country_uri, country_name = query_dbpedia_single(sparql_query_country)\n",
        "        runtime_uri, runtime = query_dbpedia_single(sparql_query_runtime)\n",
        "        writer_uri, writer_name = query_dbpedia_single(sparql_query_writer)\n",
        "        starring = query_dbpedia_multiple(sparql_query_starring)\n",
        "        languages = query_dbpedia_multiple(sparql_query_languages)\n",
        "        studios = query_dbpedia_multiple(sparql_query_studios)\n",
        "\n",
        "        movie['director_uri'] = director_uri\n",
        "        movie['director'] = director_name\n",
        "        movie['country_uri'] = country_uri\n",
        "        movie['country'] = country_name\n",
        "        movie['runtime'] = runtime\n",
        "        movie['writer_uri'] = writer_uri\n",
        "        movie['writer'] = writer_name\n",
        "        movie['starring'] = starring\n",
        "        movie['languagues'] = languages\n",
        "        movie['studios'] = studios\n",
        "\n",
        "        movies_enriched_df = movies_enriched_df.append(movie)    \n",
        "    except:\n",
        "        print(\"An exception occurred at index:\", i)\n",
        "        break\n",
        "    \n",
        "movies_enriched_df.to_csv('data/processed/movies_enriched.csv')\n"
      ]
    },
    {
      "cell_type": "code",
      "execution_count": null,
      "metadata": {},
      "outputs": [],
      "source": []
    }
  ],
  "metadata": {
    "colab": {
      "name": "Taller3_dbpedia.ipynb",
      "provenance": [],
      "collapsed_sections": []
    },
    "kernelspec": {
      "name": "python38164bitmoviesrecommenderpipenv6eab1ad1582d4a5c94cc5bb10bdde87a",
      "display_name": "Python 3.8.1 64-bit ('movies-recommender': pipenv)"
    }
  },
  "nbformat": 4,
  "nbformat_minor": 0
}